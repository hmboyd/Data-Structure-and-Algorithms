nations = [
    Amsterdam
    , Athens
    , Bahia
    , Beira
    , Beirut
    , Belize
    , Bilbao
    , Bombay
    , Bordeaux
    , Boston
    , Buenos Aires
    , Cadiz
    , Calcutta
    , Canary Islands
    , Capetowns
    , Charleston
    , Curacao
    , Daman
    , Fu-chao
    , Genoa
    , Glasgow
    , Goa
    , Guadelope
    , Halifax
    , Istanbul
    , Lagos
    , Lisbon
    , Liverpool
    , Livorno
    , London
    , Macao
    , Madeira
    , Madras
    , Malaga
    , Mangalore
    , Manila
    , Marseilles
    , Mogadishu
    , Mombassa
    , New Orleans
    , New York
    , Philadelphia
    , Port Royale
    , Porto Bello
    , Rangoon
    , Recife
    , Rio De Janeiro
    , Santiago
    , Santo Domingo
    , Shanghai
    , Singapore
    , St. Petersburg
    , Stockholm
    , Sumatra
    , Surinam
    , Tangiers
    , Trinidad
    , Tunisia
    , Venice
    , Vera Cruz
    , Whydah
]
items = []
prices = [[]]
ports = []
